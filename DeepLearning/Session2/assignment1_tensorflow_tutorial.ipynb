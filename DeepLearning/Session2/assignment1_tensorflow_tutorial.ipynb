{
 "cells": [
  {
   "cell_type": "markdown",
   "metadata": {},
   "source": [
    "# MNIST master\n",
    "\n",
    "For a demo we shall solve the same digit recognition problem, but at a different scale\n",
    "* images are now 28x28\n",
    "* 10 different digits\n",
    "* 50k samples"
   ]
  },
  {
   "cell_type": "markdown",
   "metadata": {},
   "source": [
    "Before doing this homework, read some code examples written in tensorflow. There is a good repository with code examples: https://github.com/aymericdamien/TensorFlow-Examples. As we already know, we need many samples to learn :)"
   ]
  },
  {
   "cell_type": "code",
   "execution_count": 1,
   "metadata": {},
   "outputs": [],
   "source": [
    "import numpy as np\n",
    "import matplotlib.pyplot as plt\n",
    "%matplotlib inline"
   ]
  },
  {
   "cell_type": "code",
   "execution_count": 2,
   "metadata": {},
   "outputs": [],
   "source": [
    "import tensorflow as tf"
   ]
  },
  {
   "cell_type": "code",
   "execution_count": 3,
   "metadata": {},
   "outputs": [
    {
     "name": "stdout",
     "output_type": "stream",
     "text": [
      "(50000, 28, 28, 1) (50000,)\n"
     ]
    }
   ],
   "source": [
    "from mnist import load_dataset\n",
    "X_train,y_train,X_val,y_val,X_test,y_test = load_dataset()\n",
    "X_train = X_train.reshape(-1, 28,28,1) #/ 255\n",
    "X_val = X_val.reshape(-1, 28,28,1) #/ 255\n",
    "X_test = X_test.reshape(-1, 28,28,1) #/ 255\n",
    "\n",
    "print(X_train.shape,y_train.shape)"
   ]
  },
  {
   "cell_type": "code",
   "execution_count": 4,
   "metadata": {},
   "outputs": [
    {
     "data": {
      "text/plain": [
       "(50000, 28, 28, 1)"
      ]
     },
     "execution_count": 4,
     "metadata": {},
     "output_type": "execute_result"
    }
   ],
   "source": [
    "X_train.shape"
   ]
  },
  {
   "cell_type": "code",
   "execution_count": 5,
   "metadata": {},
   "outputs": [
    {
     "data": {
      "text/plain": [
       "4"
      ]
     },
     "execution_count": 5,
     "metadata": {},
     "output_type": "execute_result"
    },
    {
     "data": {
      "image/png": "[encoded data removed]",
      "text/plain": [
       "<Figure size 432x288 with 1 Axes>"
      ]
     },
     "metadata": {},
     "output_type": "display_data"
    }
   ],
   "source": [
    "plt.imshow(-X_train[20, :, :, 0], cmap=\"jet\")\n",
    "y_train[20]"
   ]
  },
  {
   "cell_type": "code",
   "execution_count": 6,
   "metadata": {},
   "outputs": [],
   "source": [
    "#defining placeholders for input and target\n",
    "input_X = tf.placeholder(tf.float32, shape=[None, 28, 28, 1], \n",
    "                         name=\"X\")\n",
    "target_y = tf.placeholder(tf.int32, shape=[None], \n",
    "                          name=\"target_Y_integer\")"
   ]
  },
  {
   "cell_type": "markdown",
   "metadata": {},
   "source": [
    "Defining network architecture"
   ]
  },
  {
   "cell_type": "code",
   "execution_count": 7,
   "metadata": {},
   "outputs": [],
   "source": [
    "# flatten images to (batch_size x 728) matrix\n",
    "input_X_reshaped = tf.reshape(input_X, shape=[-1, 1*28*28], \n",
    "                              name=\"reshape_X\")\n",
    "\n",
    "# Fully connected layer, that takes input layer and applies 50 neurons \n",
    "# to it. Nonlinearity here is sigmoid as in logistic regression.\n",
    "# You can give a name to each layer (optional)\n",
    "l_out = input_X\n",
    "l_out = tf.layers.conv2d(l_out, filters=32, kernel_size=5, activation=tf.nn.relu)\n",
    "l_out = tf.layers.max_pooling2d(l_out, pool_size=2, strides=2)\n",
    "l_out = tf.layers.conv2d(l_out, filters=64, kernel_size=3, activation=tf.nn.relu)\n",
    "l_out = tf.layers.max_pooling2d(l_out, pool_size=2, strides=2)\n",
    "l_out = tf.layers.flatten(l_out)\n",
    "l_out = tf.layers.dense(l_out, units=1024)\n",
    "l_out = tf.layers.dropout(l_out, 0.25)\n",
    "l_out = tf.layers.dense(l_out, units=10, activation=None)\n",
    "\n",
    "# We use softmax nonlinearity to make probabilities add up to 1\n",
    "l_out = tf.nn.softmax(l_out)\n",
    "\n",
    "# Prediction\n",
    "y_predicted = tf.argmax(l_out, axis=-1)"
   ]
  },
  {
   "cell_type": "code",
   "execution_count": 8,
   "metadata": {},
   "outputs": [
    {
     "data": {
      "text/plain": [
       "[<tf.Variable 'conv2d/kernel:0' shape=(5, 5, 1, 32) dtype=float32_ref>,\n",
       " <tf.Variable 'conv2d/bias:0' shape=(32,) dtype=float32_ref>,\n",
       " <tf.Variable 'conv2d_1/kernel:0' shape=(3, 3, 32, 64) dtype=float32_ref>,\n",
       " <tf.Variable 'conv2d_1/bias:0' shape=(64,) dtype=float32_ref>,\n",
       " <tf.Variable 'dense/kernel:0' shape=(1600, 1024) dtype=float32_ref>,\n",
       " <tf.Variable 'dense/bias:0' shape=(1024,) dtype=float32_ref>,\n",
       " <tf.Variable 'dense_1/kernel:0' shape=(1024, 10) dtype=float32_ref>,\n",
       " <tf.Variable 'dense_1/bias:0' shape=(10,) dtype=float32_ref>]"
      ]
     },
     "execution_count": 8,
     "metadata": {},
     "output_type": "execute_result"
    }
   ],
   "source": [
    "weights = tf.trainable_variables()\n",
    "weights"
   ]
  },
  {
   "cell_type": "markdown",
   "metadata": {},
   "source": [
    "### Than you could simply\n",
    "* define loss function manually\n",
    "* compute error gradient over all weights\n",
    "* define updates\n",
    "* But that's a whole lot of work and life's short\n",
    "  * not to mention life's too short to wait for SGD to converge\n",
    "\n",
    "Instead, we shall use Tensorflow builtins"
   ]
  },
  {
   "cell_type": "code",
   "execution_count": 9,
   "metadata": {},
   "outputs": [],
   "source": [
    "# Mean categorical crossentropy as a loss function\n",
    "# - similar to logistic loss but for multiclass targets\n",
    "loss = tf.reduce_mean(tf.nn.sparse_softmax_cross_entropy_with_logits(\n",
    "    labels=target_y, logits=l_out, name=\"softmax_loss\"))"
   ]
  },
  {
   "cell_type": "code",
   "execution_count": 10,
   "metadata": {},
   "outputs": [
    {
     "data": {
      "text/plain": [
       "[<tf.Variable 'accuracy/total:0' shape=() dtype=float32_ref>,\n",
       " <tf.Variable 'accuracy/count:0' shape=() dtype=float32_ref>]"
      ]
     },
     "execution_count": 10,
     "metadata": {},
     "output_type": "execute_result"
    }
   ],
   "source": [
    "accuracy, update_accuracy = tf.metrics.accuracy(target_y, y_predicted)\n",
    "tf.local_variables()"
   ]
  },
  {
   "cell_type": "code",
   "execution_count": 11,
   "metadata": {},
   "outputs": [],
   "source": [
    "optimzer = tf.train.AdamOptimizer(learning_rate=0.001)\n",
    "train_step = optimzer.minimize(loss)"
   ]
  },
  {
   "cell_type": "markdown",
   "metadata": {},
   "source": [
    "### That's all, now let's train it!\n",
    "* We got a lot of data, so it's recommended that you use SGD\n",
    "* So let's implement a function that splits the training sample into minibatches"
   ]
  },
  {
   "cell_type": "code",
   "execution_count": 12,
   "metadata": {},
   "outputs": [],
   "source": [
    "# An auxilary function that returns mini-batches for neural network training\n",
    "\n",
    "#Parameters\n",
    "# inputs - a tensor of images with shape (many, 1, 28, 28), e.g. X_train\n",
    "# outputs - a vector of answers for corresponding images e.g. Y_train\n",
    "#batch_size - a single number - the intended size of each batches\n",
    "\n",
    "def iterate_minibatches(inputs, targets, batchsize):\n",
    "    assert len(inputs) == len(targets)\n",
    "    indices = np.arange(len(inputs))\n",
    "    np.random.shuffle(indices)\n",
    "    for start_idx in range(0, len(inputs) - batchsize + 1, batchsize):\n",
    "        excerpt = indices[start_idx:start_idx + batchsize]\n",
    "        yield inputs[excerpt], targets[excerpt]"
   ]
  },
  {
   "cell_type": "markdown",
   "metadata": {},
   "source": [
    "# Training loop"
   ]
  },
  {
   "cell_type": "markdown",
   "metadata": {},
   "source": [
    "Model saver.\n",
    "<br>\n",
    "See more:\n",
    "http://cv-tricks.com/tensorflow-tutorial/save-restore-tensorflow-models-quick-complete-tutorial/"
   ]
  },
  {
   "cell_type": "code",
   "execution_count": 13,
   "metadata": {},
   "outputs": [],
   "source": [
    "model_path = \"./checkpoints/model.ckpt\"\n",
    "saver = tf.train.Saver(max_to_keep=3)"
   ]
  },
  {
   "cell_type": "code",
   "execution_count": 14,
   "metadata": {
    "scrolled": true
   },
   "outputs": [
    {
     "name": "stdout",
     "output_type": "stream",
     "text": [
      "Epoch 1 of 30 took 47.666s\n",
      "  training loss (in-iteration):\t\t1.589371\n",
      "  train accuracy:\t\t87.70 %\n",
      "  validation accuracy:\t\t97.62 %\n",
      "  Model saved in file: ./checkpoints/model.ckpt-0\n",
      "Epoch 2 of 30 took 47.352s\n",
      "  training loss (in-iteration):\t\t1.484756\n",
      "  train accuracy:\t\t97.81 %\n",
      "  validation accuracy:\t\t98.30 %\n",
      "  Model saved in file: ./checkpoints/model.ckpt-1\n",
      "Epoch 3 of 30 took 47.011s\n",
      "  training loss (in-iteration):\t\t1.479105\n",
      "  train accuracy:\t\t98.28 %\n",
      "  validation accuracy:\t\t98.25 %\n",
      "  Model saved in file: ./checkpoints/model.ckpt-2\n",
      "Epoch 4 of 30 took 47.998s\n",
      "  training loss (in-iteration):\t\t1.477078\n",
      "  train accuracy:\t\t98.46 %\n",
      "  validation accuracy:\t\t98.34 %\n",
      "  Model saved in file: ./checkpoints/model.ckpt-3\n",
      "Epoch 5 of 30 took 49.023s\n",
      "  training loss (in-iteration):\t\t1.475187\n",
      "  train accuracy:\t\t98.64 %\n",
      "  validation accuracy:\t\t98.70 %\n",
      "  Model saved in file: ./checkpoints/model.ckpt-4\n",
      "Epoch 6 of 30 took 50.881s\n",
      "  training loss (in-iteration):\t\t1.474123\n",
      "  train accuracy:\t\t98.72 %\n",
      "  validation accuracy:\t\t98.66 %\n",
      "  Model saved in file: ./checkpoints/model.ckpt-5\n",
      "Epoch 7 of 30 took 50.342s\n",
      "  training loss (in-iteration):\t\t1.473126\n",
      "  train accuracy:\t\t98.82 %\n",
      "  validation accuracy:\t\t98.40 %\n",
      "  Model saved in file: ./checkpoints/model.ckpt-6\n",
      "Epoch 8 of 30 took 51.210s\n",
      "  training loss (in-iteration):\t\t1.472594\n",
      "  train accuracy:\t\t98.88 %\n",
      "  validation accuracy:\t\t98.85 %\n",
      "  Model saved in file: ./checkpoints/model.ckpt-7\n",
      "Epoch 9 of 30 took 50.763s\n",
      "  training loss (in-iteration):\t\t1.473216\n",
      "  train accuracy:\t\t98.80 %\n",
      "  validation accuracy:\t\t98.80 %\n",
      "  Model saved in file: ./checkpoints/model.ckpt-8\n",
      "Epoch 10 of 30 took 50.952s\n",
      "  training loss (in-iteration):\t\t1.470818\n",
      "  train accuracy:\t\t99.03 %\n",
      "  validation accuracy:\t\t98.41 %\n",
      "  Model saved in file: ./checkpoints/model.ckpt-9\n",
      "Epoch 11 of 30 took 51.408s\n",
      "  training loss (in-iteration):\t\t1.471544\n",
      "  train accuracy:\t\t98.97 %\n",
      "  validation accuracy:\t\t98.78 %\n",
      "  Model saved in file: ./checkpoints/model.ckpt-10\n",
      "Epoch 12 of 30 took 50.599s\n",
      "  training loss (in-iteration):\t\t1.471413\n",
      "  train accuracy:\t\t98.97 %\n",
      "  validation accuracy:\t\t98.67 %\n",
      "  Model saved in file: ./checkpoints/model.ckpt-11\n",
      "Epoch 13 of 30 took 55.735s\n",
      "  training loss (in-iteration):\t\t1.468946\n",
      "  train accuracy:\t\t99.24 %\n",
      "  validation accuracy:\t\t98.72 %\n",
      "  Model saved in file: ./checkpoints/model.ckpt-12\n",
      "Epoch 14 of 30 took 53.975s\n",
      "  training loss (in-iteration):\t\t1.469917\n",
      "  train accuracy:\t\t99.12 %\n",
      "  validation accuracy:\t\t98.99 %\n",
      "  Model saved in file: ./checkpoints/model.ckpt-13\n",
      "Epoch 15 of 30 took 53.617s\n",
      "  training loss (in-iteration):\t\t1.470591\n",
      "  train accuracy:\t\t99.06 %\n",
      "  validation accuracy:\t\t98.67 %\n",
      "  Model saved in file: ./checkpoints/model.ckpt-14\n",
      "Epoch 16 of 30 took 54.077s\n",
      "  training loss (in-iteration):\t\t1.471284\n",
      "  train accuracy:\t\t98.99 %\n",
      "  validation accuracy:\t\t98.83 %\n",
      "  Model saved in file: ./checkpoints/model.ckpt-15\n",
      "Epoch 17 of 30 took 53.599s\n",
      "  training loss (in-iteration):\t\t1.470128\n",
      "  train accuracy:\t\t99.09 %\n",
      "  validation accuracy:\t\t98.62 %\n",
      "  Model saved in file: ./checkpoints/model.ckpt-16\n",
      "Epoch 18 of 30 took 54.180s\n",
      "  training loss (in-iteration):\t\t1.469433\n",
      "  train accuracy:\t\t99.16 %\n",
      "  validation accuracy:\t\t98.80 %\n",
      "  Model saved in file: ./checkpoints/model.ckpt-17\n",
      "Epoch 19 of 30 took 54.818s\n",
      "  training loss (in-iteration):\t\t1.469956\n",
      "  train accuracy:\t\t99.12 %\n",
      "  validation accuracy:\t\t98.57 %\n",
      "  Model saved in file: ./checkpoints/model.ckpt-18\n",
      "Epoch 20 of 30 took 54.007s\n",
      "  training loss (in-iteration):\t\t1.469401\n",
      "  train accuracy:\t\t99.18 %\n",
      "  validation accuracy:\t\t98.65 %\n",
      "  Model saved in file: ./checkpoints/model.ckpt-19\n",
      "Epoch 21 of 30 took 54.126s\n",
      "  training loss (in-iteration):\t\t1.470585\n",
      "  train accuracy:\t\t99.05 %\n",
      "  validation accuracy:\t\t98.76 %\n",
      "  Model saved in file: ./checkpoints/model.ckpt-20\n",
      "Epoch 22 of 30 took 53.964s\n",
      "  training loss (in-iteration):\t\t1.469677\n",
      "  train accuracy:\t\t99.15 %\n",
      "  validation accuracy:\t\t98.57 %\n",
      "  Model saved in file: ./checkpoints/model.ckpt-21\n",
      "Epoch 23 of 30 took 54.518s\n",
      "  training loss (in-iteration):\t\t1.469920\n",
      "  train accuracy:\t\t99.12 %\n",
      "  validation accuracy:\t\t98.68 %\n",
      "  Model saved in file: ./checkpoints/model.ckpt-22\n",
      "Epoch 24 of 30 took 53.661s\n",
      "  training loss (in-iteration):\t\t1.470398\n",
      "  train accuracy:\t\t99.07 %\n",
      "  validation accuracy:\t\t99.13 %\n",
      "  Model saved in file: ./checkpoints/model.ckpt-23\n",
      "Epoch 25 of 30 took 53.654s\n",
      "  training loss (in-iteration):\t\t1.469471\n",
      "  train accuracy:\t\t99.17 %\n",
      "  validation accuracy:\t\t98.57 %\n",
      "  Model saved in file: ./checkpoints/model.ckpt-24\n",
      "Epoch 26 of 30 took 53.857s\n",
      "  training loss (in-iteration):\t\t1.469835\n",
      "  train accuracy:\t\t99.13 %\n",
      "  validation accuracy:\t\t98.83 %\n",
      "  Model saved in file: ./checkpoints/model.ckpt-25\n",
      "Epoch 27 of 30 took 51.592s\n",
      "  training loss (in-iteration):\t\t1.470260\n",
      "  train accuracy:\t\t99.09 %\n",
      "  validation accuracy:\t\t98.98 %\n",
      "  Model saved in file: ./checkpoints/model.ckpt-26\n",
      "Epoch 28 of 30 took 51.214s\n",
      "  training loss (in-iteration):\t\t1.468888\n",
      "  train accuracy:\t\t99.22 %\n",
      "  validation accuracy:\t\t98.63 %\n",
      "  Model saved in file: ./checkpoints/model.ckpt-27\n",
      "Epoch 29 of 30 took 52.041s\n",
      "  training loss (in-iteration):\t\t1.468632\n",
      "  train accuracy:\t\t99.24 %\n",
      "  validation accuracy:\t\t98.23 %\n",
      "  Model saved in file: ./checkpoints/model.ckpt-28\n",
      "Epoch 30 of 30 took 51.912s\n",
      "  training loss (in-iteration):\t\t1.469159\n",
      "  train accuracy:\t\t99.20 %\n",
      "  validation accuracy:\t\t98.85 %\n",
      "  Model saved in file: ./checkpoints/model.ckpt-29\n"
     ]
    }
   ],
   "source": [
    "import time\n",
    "\n",
    "num_epochs = 30 # amount of passes through the data\n",
    "\n",
    "batch_size = 200 # number of samples processed at each function call\n",
    "\n",
    "with tf.Session() as sess:\n",
    "    # initialize global wariables\n",
    "    sess.run(tf.global_variables_initializer())\n",
    "    \n",
    "    for epoch in range(num_epochs):\n",
    "        # In each epoch, we do a full pass over the training data:\n",
    "        train_err = 0\n",
    "        train_batches = 0\n",
    "        start_time = time.time()\n",
    "\n",
    "        sess.run(tf.local_variables_initializer())\n",
    "        for batch in iterate_minibatches(X_train, y_train,batch_size):\n",
    "            inputs, targets = batch\n",
    "\n",
    "            _, train_err_batch, _ = sess.run(\n",
    "                [train_step, loss, update_accuracy], \n",
    "                feed_dict={input_X: inputs, target_y:targets}\n",
    "            )\n",
    "            train_err += train_err_batch\n",
    "            train_batches += 1\n",
    "        train_acc = sess.run(accuracy)\n",
    "\n",
    "        # And a full pass over the validation data:\n",
    "        sess.run(tf.local_variables_initializer())\n",
    "        for batch in iterate_minibatches(X_val, y_val, batch_size):\n",
    "            inputs, targets = batch\n",
    "            sess.run(update_accuracy, feed_dict={input_X: inputs, \n",
    "                                                 target_y:targets})\n",
    "        val_acc = sess.run(accuracy)\n",
    "\n",
    "\n",
    "        # Then we print the results for this epoch:\n",
    "        print(\"Epoch {} of {} took {:.3f}s\".format(\n",
    "            epoch + 1, num_epochs, time.time() - start_time))\n",
    "\n",
    "        print(\"  training loss (in-iteration):\\t\\t{:.6f}\".format(train_err / train_batches))\n",
    "        print(\"  train accuracy:\\t\\t{:.2f} %\".format(\n",
    "            train_acc * 100))\n",
    "        print(\"  validation accuracy:\\t\\t{:.2f} %\".format(\n",
    "            val_acc * 100))\n",
    "        \n",
    "        # save model\n",
    "        save_path = saver.save(sess, model_path, global_step=epoch)\n",
    "        print(\"  Model saved in file: %s\" % save_path)"
   ]
  },
  {
   "cell_type": "markdown",
   "metadata": {},
   "source": [
    "Now we can restore saved parameters:"
   ]
  },
  {
   "cell_type": "code",
   "execution_count": 15,
   "metadata": {},
   "outputs": [
    {
     "name": "stdout",
     "output_type": "stream",
     "text": [
      "INFO:tensorflow:Restoring parameters from ./checkpoints/model.ckpt-29\n",
      "Model restored from file: ./checkpoints/model.ckpt-29\n",
      "Final results:\n",
      "  test accuracy:\t\t99.02 %\n",
      "We need more magic!\n"
     ]
    }
   ],
   "source": [
    "with tf.Session() as sess:\n",
    "    sess.run(tf.global_variables_initializer())\n",
    "    load_path = saver.restore(sess, saver.last_checkpoints[-1])\n",
    "    print(\"Model restored from file: %s\" % save_path)\n",
    "    \n",
    "    sess.run(tf.local_variables_initializer())\n",
    "    for batch in iterate_minibatches(X_test, y_test, 500):\n",
    "        inputs, targets = batch\n",
    "        sess.run(update_accuracy, feed_dict={input_X: inputs, \n",
    "                                                   target_y:targets})\n",
    "    test_acc = sess.run(accuracy)\n",
    "    print(\"Final results:\")\n",
    "    print(\"  test accuracy:\\t\\t{:.2f} %\".format(\n",
    "        test_acc* 100))\n",
    "\n",
    "    if test_acc * 100 > 99.5:\n",
    "        print (\"Achievement unlocked: 80lvl Warlock!\")\n",
    "    else:\n",
    "        print (\"We need more magic!\")"
   ]
  },
  {
   "cell_type": "markdown",
   "metadata": {
    "collapsed": true
   },
   "source": [
    "# Now improve it!\n",
    "\n",
    "* Moar layers!\n",
    "* Moar units!\n",
    "* Different nonlinearities!"
   ]
  }
 ],
 "metadata": {
  "kernelspec": {
   "display_name": "Python 3",
   "language": "python",
   "name": "python3"
  },
  "language_info": {
   "codemirror_mode": {
    "name": "ipython",
    "version": 3
   },
   "file_extension": ".py",
   "mimetype": "text/x-python",
   "name": "python",
   "nbconvert_exporter": "python",
   "pygments_lexer": "ipython3",
   "version": "3.6.5"
  }
 },
 "nbformat": 4,
 "nbformat_minor": 1
}
