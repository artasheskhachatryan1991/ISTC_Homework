{
 "cells": [
  {
   "cell_type": "markdown",
   "metadata": {},
   "source": [
    "### ex. 1"
   ]
  },
  {
   "cell_type": "markdown",
   "metadata": {},
   "source": [
    "$$ \\frac{\\partial y}{\\partial x} = [\\frac{\\partial\\sum_{i=1}^n x_i^2}{\\partial x_1},\\frac{\\partial\\sum_{i=1}^n x_i^2}{\\partial x_2},...,\\frac{\\partial\\sum_{i=1}^n x_i^2}{\\partial x_n}] = [2x_1,2x_2,...,2x_n] = 2x^T $$"
   ]
  },
  {
   "cell_type": "markdown",
   "metadata": {},
   "source": [
    "### ex. 2"
   ]
  },
  {
   "cell_type": "markdown",
   "metadata": {},
   "source": [
    "Let $$ A = \\begin{bmatrix}\n",
    "    a_{11}       & a_{12} & a_{13} & \\dots & a_{1n} \\\\\n",
    "    a_{21}       & a_{22} & a_{23} & \\dots & a_{2n} \\\\\n",
    "    \\vdots & \\vdots & \\vdots & \\vdots & \\vdots \\\\\n",
    "    a_{n1}       & a_{n2} & a_{n3} & \\dots & a_{nn} \n",
    "\\end{bmatrix} = \\begin{bmatrix}\n",
    "           a_{1} \\\\\n",
    "           a_{2} \\\\\n",
    "           \\vdots \\\\\n",
    "           a_{n}\n",
    "         \\end{bmatrix}  \\quad (a_{i} \\: is\\: the\\: ith\\: row\\: vector\\: of\\: A) $$\n",
    "\n",
    "$$ \\\\ $$\n",
    "<div style=\"text-align:center\">and</div>\n",
    "\n",
    "$$ B = \\begin{bmatrix}\n",
    "    b_{11}       & b_{12} & b_{13} & \\dots & b_{1n} \\\\\n",
    "    b_{21}       & b_{22} & b_{23} & \\dots & b_{2n} \\\\\n",
    "    \\vdots & \\vdots & \\vdots & \\vdots & \\vdots \\\\\n",
    "    b_{n1}       & b_{n2} & b_{n3} & \\dots & b_{nn} \n",
    "\\end{bmatrix} = [b_{1},b_{2},...,b_{n}] \\quad (b_{i} \\: is\\: the\\: ith\\: column\\: vector\\: of\\: B)$$ \n",
    "$ \\\\ $\n",
    "         \n",
    "$$\\frac{\\partial y}{\\partial A} = \\begin{bmatrix}\n",
    "    \\frac{\\partial\\sum_{i=1}^n a_i b_i}{\\partial a_{11}}       & \\frac{\\partial\\sum_{i=1}^n a_i b_i}{\\partial a_{12}}  & \\frac{\\partial\\sum_{i=1}^n a_i b_i}{\\partial a_{13}}  & \\dots & \\frac{\\partial\\sum_{i=1}^n a_i b_i}{\\partial a_{1n}}  \\\\\n",
    "    \\frac{\\partial\\sum_{i=1}^n a_i b_i}{\\partial a_{21}}        & \\frac{\\partial\\sum_{i=1}^n a_i b_i}{\\partial a_{22}}  & \\frac{\\partial\\sum_{i=1}^n a_i b_i}{\\partial a_{23}}  & \\dots & \\frac{\\partial\\sum_{i=1}^n a_i b_i}{\\partial a_{2n}}  \\\\\n",
    "    \\vdots & \\vdots & \\vdots & \\vdots & \\vdots \\\\\n",
    "    \\frac{\\partial\\sum_{i=1}^n a_i b_i}{\\partial a_{n1}}        & \\frac{\\partial\\sum_{i=1}^n a_i b_i}{\\partial a_{n2}}  & \\frac{\\partial\\sum_{i=1}^n a_i b_i}{\\partial a_{n3}}  & \\dots & \\frac{\\partial\\sum_{i=1}^n a_i b_i}{\\partial a_{nn}} \n",
    "\\end{bmatrix} = \\begin{bmatrix}\n",
    "    b_{11}       & b_{21} & b_{31} & \\dots & b_{n1} \\\\\n",
    "    b_{21}       & b_{22} & b_{32} & \\dots & b_{n2} \\\\\n",
    "    \\vdots & \\vdots & \\vdots & \\vdots & \\vdots \\\\\n",
    "    b_{1n}       & b_{2n} & b_{3n} & \\dots & b_{nn} \n",
    "\\end{bmatrix} = B^T$$"
   ]
  },
  {
   "cell_type": "markdown",
   "metadata": {},
   "source": [
    "### ex. 3"
   ]
  },
  {
   "cell_type": "markdown",
   "metadata": {},
   "source": [
    "Let $$ A = \\begin{bmatrix}\n",
    "    a_{11}       & a_{12} & a_{13} & \\dots & a_{1n} \\\\\n",
    "    a_{21}       & a_{22} & a_{23} & \\dots & a_{2n} \\\\\n",
    "    \\vdots & \\vdots & \\vdots & \\vdots & \\vdots \\\\\n",
    "    a_{n1}       & a_{n2} & a_{n3} & \\dots & a_{nn} \n",
    "\\end{bmatrix} = [a_{1},a_{2},...,a_{n}] \\quad (a_{i} \\: is\\: the\\: ith\\: column\\: vector\\: of\\: A) $$\n",
    "        "
   ]
  },
  {
   "cell_type": "markdown",
   "metadata": {},
   "source": [
    "$$ x = \\begin{bmatrix}\n",
    "           x_{1} \\\\\n",
    "           x_{2} \\\\\n",
    "           \\vdots \\\\\n",
    "           x_{n}\n",
    "         \\end{bmatrix}\\quad and \\quad c = \\begin{bmatrix}\n",
    "           c_{1} \\\\\n",
    "           c_{2} \\\\\n",
    "           \\vdots \\\\\n",
    "           c_{n}\n",
    "         \\end{bmatrix} $$"
   ]
  },
  {
   "cell_type": "markdown",
   "metadata": {},
   "source": [
    "$$\\frac{\\partial y}{\\partial A} = \\begin{bmatrix}\n",
    "    \\frac{\\partial\\sum_{i=1}^n (x^T a_i) c_i}{\\partial a_{11}}       & \\frac{\\partial\\sum_{i=1}^n (x^T a_i) c_i}{\\partial a_{12}}  & \\frac{\\partial\\sum_{i=1}^n (x^T a_i) c_i}{\\partial a_{13}}  & \\dots & \\frac{\\partial\\sum_{i=1}^n (x^T a_i) c_i}{\\partial a_{1n}}  \\\\\n",
    "    \\frac{\\partial\\sum_{i=1}^n (x^T a_i) c_i}{\\partial a_{21}}        & \\frac{\\partial\\sum_{i=1}^n (x^T a_i) c_i}{\\partial a_{22}}  & \\frac{\\partial\\sum_{i=1}^n (x^T a_i) c_i}{\\partial a_{23}}  & \\dots & \\frac{\\partial\\sum_{i=1}^n (x^T a_i) c_i}{\\partial a_{2n}}  \\\\\n",
    "    \\vdots & \\vdots & \\vdots & \\vdots & \\vdots \\\\\n",
    "    \\frac{\\partial\\sum_{i=1}^n (x^T a_i) c_i}{\\partial a_{n1}}        & \\frac{\\partial\\sum_{i=1}^n (x^T a_i) c_i}{\\partial a_{n2}}  & \\frac{\\partial\\sum_{i=1}^n (x^T a_i) c_i}{\\partial a_{n3}}  & \\dots & \\frac{\\partial\\sum_{i=1}^n (x^T a_i) c_i}{\\partial a_{nn}} \n",
    "\\end{bmatrix} = \\begin{bmatrix}\n",
    "    x_{1} c_{1}       & x_{1} c_{2} & x_{1} c_{3} & \\dots & x_{1} c_{n} \\\\\n",
    "    x_{2} c_{1}       & x_{2} c_{2} & x_{2} c_{3} & \\dots & x_{2} c_{n} \\\\\n",
    "    \\vdots & \\vdots & \\vdots & \\vdots & \\vdots \\\\\n",
    "    x_{n} c_{1}       & x_{n} c_{2} & x_{n} c_{3} & \\dots & x_{n} c_{n} \n",
    "\\end{bmatrix} = \\begin{bmatrix}\n",
    "    x_{1} & 0 & 0 & \\dots & 0 \\\\\n",
    "    x_{2} & 0 & 0 &  \\dots & 0 \\\\\n",
    "    x_{3} & 0 & 0 &  \\dots & 0 \\\\\n",
    "    \\vdots & \\vdots & \\vdots & \\vdots & \\vdots \\\\\n",
    "     x_{n} & 0 & 0 &  \\dots & 0 \\\\ \n",
    "\\end{bmatrix} \\cdot \\begin{bmatrix}\n",
    "    c_{1} & c_{2} & c_{3} & \\dots & c_{n} \\\\\n",
    "    0 & 0 & 0 &  \\dots & 0 \\\\\n",
    "    0 & 0 & 0 &  \\dots & 0 \\\\\n",
    "    \\vdots & \\vdots & \\vdots & \\vdots & \\vdots \\\\\n",
    "     0 & 0 & 0 &  \\dots & 0 \\\\ \\end{bmatrix} $$"
   ]
  },
  {
   "cell_type": "markdown",
   "metadata": {},
   "source": [
    "### ex.4"
   ]
  },
  {
   "cell_type": "markdown",
   "metadata": {},
   "source": [
    "$$ J = ||X-A S||_2^2 = ||X-F||_2^2 = tr((X-F) (X-F)^T) = tr(U U^T), \\; where \\: (X-F)\\: is\\: denoted\\: by\\: U $$ "
   ]
  },
  {
   "cell_type": "markdown",
   "metadata": {},
   "source": [
    "$$ F = A\\cdot S, \\; where \\: F\\in R^{N \\times M},\\: A\\in R^{N\\times R},\\: S\\in R^{R\\times M} $$"
   ]
  },
  {
   "cell_type": "markdown",
   "metadata": {},
   "source": [
    "$$ \\begin{bmatrix}\n",
    "    \\vdots & \\vdots & \\vdots & \\dots & \\vdots \\\\\n",
    "    N & N & N & \\dots & N \\\\\n",
    "    \\vdots & \\vdots & \\vdots & \\dots & \\vdots \\\\\n",
    "\\end{bmatrix} = \n",
    "\\begin{bmatrix}\n",
    "    \\dots & R & \\dots \\\\\n",
    "    \\dots & R & \\dots \\\\\n",
    "    \\dots & R & \\dots \\\\\n",
    "    \\vdots & \\vdots & \\vdots \\\\\n",
    "     \\dots & R & \\dots \\\\\n",
    "\\end{bmatrix} \\cdot\n",
    "\\begin{bmatrix}\n",
    "    \\vdots & \\vdots & \\vdots & \\dots & \\vdots \\\\\n",
    "    R & R & R & \\dots & R \\\\\n",
    "    \\vdots & \\vdots & \\vdots & \\dots & \\vdots \\\\\n",
    "\\end{bmatrix}$$"
   ]
  },
  {
   "cell_type": "markdown",
   "metadata": {},
   "source": [
    "$$ F_{vec} = A_{big}\\cdot S_{vec}, \\; where \\: F_{vec}\\in R^{M N\\times1},\\: A_{big}\\in R^{M N\\times M R},\\: S_{vec}\\in R^{M R\\times1} $$"
   ]
  },
  {
   "cell_type": "markdown",
   "metadata": {},
   "source": [
    "$$ \\begin{bmatrix}\n",
    "           \\vdots \\\\\n",
    "           N \\\\\n",
    "           \\vdots \\\\\n",
    "           \\vdots \\\\\n",
    "           N \\\\\n",
    "           \\vdots \\\\\n",
    "           \\\\\n",
    "           \\vdots \\\\\n",
    "           N \\\\\n",
    "           \\vdots \\\\\n",
    "         \\end{bmatrix} = \n",
    "\\begin{bmatrix}\n",
    "    A & 0 & \\dots & 0 \\\\\n",
    "    0 & A & \\dots & 0 \\\\\n",
    "    \\vdots & \\vdots & \\vdots & \\vdots \\\\\n",
    "     0 & 0 & \\dots & A \\\\ \\\\\n",
    "\\end{bmatrix} \\cdot\n",
    "\\begin{bmatrix}\n",
    "           \\vdots \\\\\n",
    "           R \\\\\n",
    "           \\vdots \\\\\n",
    "           \\vdots \\\\\n",
    "           R \\\\\n",
    "           \\vdots \\\\\n",
    "           \\\\\n",
    "           \\vdots \\\\\n",
    "           R \\\\\n",
    "           \\vdots \\\\\n",
    "         \\end{bmatrix}$$\n",
    "\n",
    "So,\n",
    "\n",
    "$$ \\frac{\\partial F_{vec}}{\\partial S_{vec}} = A_{big} $$\n"
   ]
  },
  {
   "cell_type": "markdown",
   "metadata": {},
   "source": [
    "Let's compute\n",
    "\n",
    "$$ \\frac{\\partial J}{\\partial F_{vec}} = \\frac{\\partial J}{\\partial U_{vec}} \\cdot \\frac{\\partial U_{vec}}{\\partial F_{vec}}$$"
   ]
  },
  {
   "cell_type": "markdown",
   "metadata": {},
   "source": [
    "$$\\frac{\\partial J}{\\partial U_{vec}}=2[u_{11},u_{21},u_{31},...,u_{NM}] \\quad and \\quad \\frac{\\partial U_{vec}}{\\partial F_{vec}} = -I_{NM} $$\n",
    "\n",
    "So,\n",
    "\n",
    "$$\\frac{\\partial J}{\\partial F_{vec}}=-2U_{vec}^T$$\n",
    "\n",
    "Now,\n",
    "\n",
    "$$ \\frac{\\partial J}{\\partial S_{vec}} = \\frac{\\partial J}{\\partial F_{vec}} \\cdot \\frac{\\partial F_{vec}}{\\partial S_{vec}} = -2U_{vec}^T \\cdot A_{big} = -2[u_1^T a_1, u_1^T a_2, ... u_1^T a_R ,u_2^T a_1, u_2^T a_2,..., u_M^T a_R], \\; \\: where\\: a_{i} \\: and \\:u_{i} \\:are\\: column\\: vectors$$\n",
    "\n",
    "By doing \"back-vectorization\", we see that\n",
    "$$\\frac{\\partial J}{\\partial S} = (-2U^T \\cdot A)^T = A^T \\cdot -2(X-F) $$\n"
   ]
  },
  {
   "cell_type": "code",
   "execution_count": null,
   "metadata": {
    "collapsed": true
   },
   "outputs": [],
   "source": []
  }
 ],
 "metadata": {
  "kernelspec": {
   "display_name": "Python 3",
   "language": "python",
   "name": "python3"
  },
  "language_info": {
   "codemirror_mode": {
    "name": "ipython",
    "version": 3
   },
   "file_extension": ".py",
   "mimetype": "text/x-python",
   "name": "python",
   "nbconvert_exporter": "python",
   "pygments_lexer": "ipython3",
   "version": "3.6.5"
  }
 },
 "nbformat": 4,
 "nbformat_minor": 2
}
