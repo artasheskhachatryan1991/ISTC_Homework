{
 "cells": [
  {
   "cell_type": "code",
   "execution_count": 258,
   "metadata": {},
   "outputs": [],
   "source": [
    "import numpy as np\n",
    "import json\n",
    "from sklearn.metrics import accuracy_score\n",
    "from collections import Counter\n",
    "\n",
    "\n",
    "def most_common(lst):\n",
    "    b = Counter(lst)\n",
    "    return b.most_common(1)[0][0]\n",
    "\n",
    "def distance(data, dp):\n",
    "    distances = []\n",
    "    for o_dp in data:\n",
    "        distances.append(np.linalg.norm(o_dp-dp))\n",
    "    return distances\n",
    "\n",
    "class K_NN:\n",
    "    def __init__(self, k):\n",
    "        \"\"\"\n",
    "        :param k: number of nearest neighbours\n",
    "        \"\"\"\n",
    "        self.k = k\n",
    "        \n",
    "    \n",
    "\n",
    "    def fit(self, data):\n",
    "        \"\"\"\n",
    "        :param data: 3D array, where data[i, j] is i-th classes j-th point (vector: D dimenstions)\n",
    "        \"\"\"\n",
    "        # TODO: preprocessing\n",
    "        y = []\n",
    "        for i in range(data.shape[0]):\n",
    "            for j in range(data[i].shape[0]):\n",
    "                y.append(np.concatenate((data[i, j], [i])))\n",
    "        y = np.array(y)        \n",
    "        self.X = y[:,:-1]\n",
    "        self.y = y[:,-1]\n",
    "\n",
    "    def predict(self, data):\n",
    "        \"\"\"\n",
    "        :param data: 2D array of floats N points each D dimensions\n",
    "        :return: array of integers\n",
    "        \"\"\"\n",
    "        distances=[]\n",
    "        for dp in data:\n",
    "            distances.append(distance(self.X, dp))\n",
    "        distances = np.array(distances)        \n",
    "        y_pred = []\n",
    "        for dist in distances:            \n",
    "            y_pred.append(most_common(self.y[[dist.argsort()[:self.k]]]))        \n",
    "        return np.array(y_pred)"
   ]
  },
  {
   "cell_type": "code",
   "execution_count": 253,
   "metadata": {},
   "outputs": [],
   "source": [
    "with open('train_data.json') as f:\n",
    "   train_data = np.array(json.load(f))\n",
    "with open('test_data.json') as f:\n",
    "   test_data = np.array(json.load(f))"
   ]
  },
  {
   "cell_type": "code",
   "execution_count": 254,
   "metadata": {},
   "outputs": [
    {
     "name": "stdout",
     "output_type": "stream",
     "text": [
      "(500, 2) (500,)\n"
     ]
    }
   ],
   "source": [
    "y = []\n",
    "for i in range(test_data.shape[0]):\n",
    "    for j in range(test_data[i].shape[0]):\n",
    "        y.append(np.concatenate((test_data[i, j], [i])))\n",
    "y = np.array(y)        \n",
    "test_X = y[:,:-1]\n",
    "test_y = y[:,-1]\n",
    "print(test_X.shape, test_y.shape)        "
   ]
  },
  {
   "cell_type": "code",
   "execution_count": 260,
   "metadata": {},
   "outputs": [],
   "source": [
    "k_nn = K_NN(50)\n",
    "k_nn.fit(train_data)\n",
    "y_pred = k_nn.predict(test_X)\n",
    "# accuracy_score(test_y, y_pred)"
   ]
  },
  {
   "cell_type": "code",
   "execution_count": 261,
   "metadata": {},
   "outputs": [
    {
     "data": {
      "text/plain": [
       "0.994"
      ]
     },
     "execution_count": 261,
     "metadata": {},
     "output_type": "execute_result"
    }
   ],
   "source": [
    "accuracy_score(test_y, y_pred)"
   ]
  }
 ],
 "metadata": {
  "kernelspec": {
   "display_name": "Python 3",
   "language": "python",
   "name": "python3"
  },
  "language_info": {
   "codemirror_mode": {
    "name": "ipython",
    "version": 3
   },
   "file_extension": ".py",
   "mimetype": "text/x-python",
   "name": "python",
   "nbconvert_exporter": "python",
   "pygments_lexer": "ipython3",
   "version": "3.6.5"
  }
 },
 "nbformat": 4,
 "nbformat_minor": 2
}
