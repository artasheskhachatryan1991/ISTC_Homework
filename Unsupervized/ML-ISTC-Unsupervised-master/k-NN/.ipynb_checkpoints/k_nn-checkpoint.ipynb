{
 "cells": [
  {
   "cell_type": "code",
   "execution_count": 68,
   "metadata": {},
   "outputs": [],
   "source": [
    "import numpy as np\n",
    "import json\n",
    "\n",
    "\n",
    "def distance(data, dp):\n",
    "    distances = []\n",
    "    for o_dp in data:\n",
    "        distances.append(np.linalg.norm(o_dp-dp))\n",
    "    return distances"
   ]
  },
  {
   "cell_type": "code",
   "execution_count": 111,
   "metadata": {},
   "outputs": [],
   "source": [
    "class K_NN:\n",
    "    def __init__(self, k):\n",
    "        \"\"\"\n",
    "        :param k: number of nearest neighbours\n",
    "        \"\"\"\n",
    "        self.k = k\n",
    "        \n",
    "    \n",
    "\n",
    "    def fit(self, data):\n",
    "        \"\"\"\n",
    "        :param data: 3D array, where data[i, j] is i-th classes j-th point (vector: D dimenstions)\n",
    "        \"\"\"\n",
    "        # TODO: preprocessing\n",
    "        y = []\n",
    "        for i in range(X.shape[0]):\n",
    "            for j in range(X[i].shape[0]):\n",
    "                y.append(np.concatenate((X[i, j], [i])))\n",
    "        y = np.array(y)        \n",
    "        self.X = y[:,:-1]\n",
    "        self.y = y[:,-1]\n",
    "\n",
    "    def predict(self, data):\n",
    "        \"\"\"\n",
    "        :param data: 2D array of floats N points each D dimensions\n",
    "        :return: array of integers\n",
    "        \"\"\"\n",
    "        distances=[]\n",
    "        for dp in data:\n",
    "            distances.append(distance(self.X, dp))\n",
    "        distances = np.array(distances)\n",
    "        print(distances.shape)\n",
    "#         print(self.y[distances.argsort()[:self.k]])\n",
    "        # TODO: predict\n",
    "        return 0"
   ]
  },
  {
   "cell_type": "code",
   "execution_count": 112,
   "metadata": {},
   "outputs": [],
   "source": [
    "with open('train_data.json') as f:\n",
    "   train_data = np.array(json.load(f))\n",
    "with open('test_data.json') as f:\n",
    "   test_data = np.array(json.load(f))"
   ]
  },
  {
   "cell_type": "code",
   "execution_count": null,
   "metadata": {},
   "outputs": [],
   "source": []
  },
  {
   "cell_type": "code",
   "execution_count": 113,
   "metadata": {},
   "outputs": [
    {
     "name": "stdout",
     "output_type": "stream",
     "text": [
      "(5, 9)\n"
     ]
    },
    {
     "data": {
      "text/plain": [
       "0"
      ]
     },
     "execution_count": 113,
     "metadata": {},
     "output_type": "execute_result"
    }
   ],
   "source": [
    "# test_data\n",
    "# k_nn = K_NN(1)\n",
    "# k_nn.fit(train_data)\n",
    "# k_nn.predict(test_data)"
   ]
  },
  {
   "cell_type": "code",
   "execution_count": 69,
   "metadata": {},
   "outputs": [
    {
     "data": {
      "text/plain": [
       "[10.0, 18.0, 26.0, 34.0]"
      ]
     },
     "execution_count": 69,
     "metadata": {},
     "output_type": "execute_result"
    }
   ],
   "source": [
    "A = (np.arange(16) + 5).reshape(4,4)\n",
    "B = np.arange(4).reshape(1,4)\n",
    "distance(A, B)"
   ]
  },
  {
   "cell_type": "code",
   "execution_count": null,
   "metadata": {},
   "outputs": [],
   "source": [
    "np.arange(5).arg"
   ]
  }
 ],
 "metadata": {
  "kernelspec": {
   "display_name": "Python 3",
   "language": "python",
   "name": "python3"
  },
  "language_info": {
   "codemirror_mode": {
    "name": "ipython",
    "version": 3
   },
   "file_extension": ".py",
   "mimetype": "text/x-python",
   "name": "python",
   "nbconvert_exporter": "python",
   "pygments_lexer": "ipython3",
   "version": "3.6.5"
  }
 },
 "nbformat": 4,
 "nbformat_minor": 2
}
